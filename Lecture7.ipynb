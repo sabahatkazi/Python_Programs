{
 "cells": [
  {
   "cell_type": "code",
   "execution_count": 5,
   "id": "f36a9676",
   "metadata": {},
   "outputs": [
    {
     "name": "stdout",
     "output_type": "stream",
     "text": [
      "Enter a Number2\n",
      "Enter the power3\n",
      "Answer is 8\n"
     ]
    }
   ],
   "source": [
    "n=int(input(\"Enter a Number\"))\n",
    "power=int(input(\"Enter the power\"))\n",
    "result=1\n",
    "while(power>=1):\n",
    "    result=result*n\n",
    "    power=power-1\n",
    "print(\"Answer is\",result)"
   ]
  },
  {
   "cell_type": "code",
   "execution_count": 4,
   "id": "bf572beb",
   "metadata": {},
   "outputs": [
    {
     "name": "stdout",
     "output_type": "stream",
     "text": [
      "Enter a Number2\n",
      "Enter the power3\n",
      "answer is 8\n"
     ]
    }
   ],
   "source": [
    "n=int(input(\"Enter a Number\"))\n",
    "power=int(input(\"Enter the power\"))\n",
    "result=1\n",
    "for i in range(1,power+1):\n",
    "    result=result*n\n",
    "print(\"answer is\",result)\n",
    "    "
   ]
  },
  {
   "cell_type": "code",
   "execution_count": 7,
   "id": "33cb9563",
   "metadata": {},
   "outputs": [
    {
     "name": "stdout",
     "output_type": "stream",
     "text": [
      "Enter a number3\n",
      "Answer is 6\n"
     ]
    }
   ],
   "source": [
    "#pattern Printing\n",
    "n=int(input(\"Enter a number\"))\n",
    "result=0\n",
    "for i in range(1,n+1):\n",
    "    result=result+i\n",
    "print(\"Answer is\",result)"
   ]
  },
  {
   "cell_type": "code",
   "execution_count": 15,
   "id": "c42d0365",
   "metadata": {},
   "outputs": [
    {
     "name": "stdout",
     "output_type": "stream",
     "text": [
      "Enter a number10\n",
      "1+2+4+5+7+8+10 = 37\n"
     ]
    }
   ],
   "source": [
    "n=int(input(\"Enter a number\"))\n",
    "result=0\n",
    "for i in range(1,n+1):    \n",
    "    if(i%3!=0):\n",
    "        result=result+i\n",
    "        if(i!=n):\n",
    "            print(i,end=\"+\")\n",
    "        else:\n",
    "            print(i,end=\" \")\n",
    "        \n",
    "print(\"=\",result)"
   ]
  },
  {
   "cell_type": "code",
   "execution_count": null,
   "id": "045c794c",
   "metadata": {},
   "outputs": [],
   "source": [
    "#2/2 + 2/4 +2/6\n",
    "#fix this\n",
    "n=int(input(\"Enter a Numerator\"))\n",
    "d=2\n",
    "sum=0\n",
    "f=int(input(\"Enter the final term\")) \n",
    "for i in range(2,f+1,2):\n",
    "    t=str(n)+\"/\"+str(i)\n",
    "    if(i!=f+1): \n",
    "        print(t,end=\" + \") \n",
    "    else:\n",
    "        print(t,end=\" \")\n",
    "    sum=sum+(n/d)\n",
    "print(\"=\",sum)"
   ]
  },
  {
   "cell_type": "code",
   "execution_count": 27,
   "id": "4e96b9dc",
   "metadata": {},
   "outputs": [
    {
     "name": "stdout",
     "output_type": "stream",
     "text": [
      "   December 2023\n",
      "Su Mo Tu We Th Fr Sa\n",
      "                1  2\n",
      " 3  4  5  6  7  8  9\n",
      "10 11 12 13 14 15 16\n",
      "17 18 19 20 21 22 23\n",
      "24 25 26 27 28 29 30\n",
      "31\n",
      "                                  2024\n",
      "\n",
      "      January                   February                   March\n",
      "Su Mo Tu We Th Fr Sa      Su Mo Tu We Th Fr Sa      Su Mo Tu We Th Fr Sa\n",
      "    1  2  3  4  5  6                   1  2  3                      1  2\n",
      " 7  8  9 10 11 12 13       4  5  6  7  8  9 10       3  4  5  6  7  8  9\n",
      "14 15 16 17 18 19 20      11 12 13 14 15 16 17      10 11 12 13 14 15 16\n",
      "21 22 23 24 25 26 27      18 19 20 21 22 23 24      17 18 19 20 21 22 23\n",
      "28 29 30 31               25 26 27 28 29            24 25 26 27 28 29 30\n",
      "                                                    31\n",
      "\n",
      "       April                      May                       June\n",
      "Su Mo Tu We Th Fr Sa      Su Mo Tu We Th Fr Sa      Su Mo Tu We Th Fr Sa\n",
      "    1  2  3  4  5  6                1  2  3  4                         1\n",
      " 7  8  9 10 11 12 13       5  6  7  8  9 10 11       2  3  4  5  6  7  8\n",
      "14 15 16 17 18 19 20      12 13 14 15 16 17 18       9 10 11 12 13 14 15\n",
      "21 22 23 24 25 26 27      19 20 21 22 23 24 25      16 17 18 19 20 21 22\n",
      "28 29 30                  26 27 28 29 30 31         23 24 25 26 27 28 29\n",
      "                                                    30\n",
      "\n",
      "        July                     August                  September\n",
      "Su Mo Tu We Th Fr Sa      Su Mo Tu We Th Fr Sa      Su Mo Tu We Th Fr Sa\n",
      "    1  2  3  4  5  6                   1  2  3       1  2  3  4  5  6  7\n",
      " 7  8  9 10 11 12 13       4  5  6  7  8  9 10       8  9 10 11 12 13 14\n",
      "14 15 16 17 18 19 20      11 12 13 14 15 16 17      15 16 17 18 19 20 21\n",
      "21 22 23 24 25 26 27      18 19 20 21 22 23 24      22 23 24 25 26 27 28\n",
      "28 29 30 31               25 26 27 28 29 30 31      29 30\n",
      "\n",
      "      October                   November                  December\n",
      "Su Mo Tu We Th Fr Sa      Su Mo Tu We Th Fr Sa      Su Mo Tu We Th Fr Sa\n",
      "       1  2  3  4  5                      1  2       1  2  3  4  5  6  7\n",
      " 6  7  8  9 10 11 12       3  4  5  6  7  8  9       8  9 10 11 12 13 14\n",
      "13 14 15 16 17 18 19      10 11 12 13 14 15 16      15 16 17 18 19 20 21\n",
      "20 21 22 23 24 25 26      17 18 19 20 21 22 23      22 23 24 25 26 27 28\n",
      "27 28 29 30 31            24 25 26 27 28 29 30      29 30 31\n"
     ]
    }
   ],
   "source": [
    "#calendar printing\n",
    "import calendar \n",
    "month=calendar.TextCalendar(calendar.SUNDAY)\n",
    "month.prmonth(2023,12)\n",
    "\n",
    "year=calendar.TextCalendar(calendar.SUNDAY)\n",
    "year.pryear(2024)"
   ]
  },
  {
   "cell_type": "code",
   "execution_count": null,
   "id": "4dff8688",
   "metadata": {},
   "outputs": [],
   "source": []
  }
 ],
 "metadata": {
  "kernelspec": {
   "display_name": "Python 3 (ipykernel)",
   "language": "python",
   "name": "python3"
  },
  "language_info": {
   "codemirror_mode": {
    "name": "ipython",
    "version": 3
   },
   "file_extension": ".py",
   "mimetype": "text/x-python",
   "name": "python",
   "nbconvert_exporter": "python",
   "pygments_lexer": "ipython3",
   "version": "3.9.13"
  }
 },
 "nbformat": 4,
 "nbformat_minor": 5
}
