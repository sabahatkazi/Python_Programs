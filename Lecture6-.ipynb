{
 "cells": [
  {
   "cell_type": "code",
   "execution_count": 2,
   "id": "ff858a7b",
   "metadata": {},
   "outputs": [
    {
     "name": "stdout",
     "output_type": "stream",
     "text": [
      "Enter a Number: 243\n",
      "It is not an Armstrong Number.\n"
     ]
    }
   ],
   "source": [
    "#Program for Armstrong Number\n",
    "num=int(input(\"Enter a Number: \"))\n",
    "n=num\n",
    "sum=0\n",
    "while(n!=0):\n",
    "    cd=0\n",
    "    d=n%10\n",
    "    cd=d**3\n",
    "    sum=sum+cd\n",
    "    n=n//10\n",
    "if(sum==num):\n",
    "    print(\"It is an Armstrong Number.\")\n",
    "else:\n",
    "    print(\"It is not an Armstrong Number.\")"
   ]
  },
  {
   "cell_type": "code",
   "execution_count": 6,
   "id": "bbbf6459",
   "metadata": {},
   "outputs": [
    {
     "name": "stdout",
     "output_type": "stream",
     "text": [
      "Enter a Number 153\n",
      "it is armstrong no.\n"
     ]
    }
   ],
   "source": [
    "#practice\n",
    "num = int(input(\"Enter a Number \"))\n",
    "n=num\n",
    "sum=0\n",
    "while(n!=0):\n",
    "    cd=0\n",
    "    d=n%10\n",
    "    cd=d**3\n",
    "    sum=sum+cd\n",
    "    n=n//10\n",
    "if(sum==num):\n",
    "    print(\"it is armstrong no.\")\n",
    "else:\n",
    "    print(\"it is not armstrong no.\")\n",
    "\n",
    "    "
   ]
  },
  {
   "cell_type": "code",
   "execution_count": 12,
   "id": "78e8fe20",
   "metadata": {},
   "outputs": [
    {
     "name": "stdout",
     "output_type": "stream",
     "text": [
      "enter a no.10\n",
      "1 2 3 5 7 "
     ]
    }
   ],
   "source": [
    "#practice prime no.\n",
    "num= int(input(\"enter a no.\"))\n",
    "\n",
    "for n in range(1,num+1):\n",
    "    counter=0\n",
    "    for i in range(1,n+1):\n",
    "        if(n%i==0):\n",
    "            counter=counter+1\n",
    "    if(counter==2 or counter==1):\n",
    "        print(n,end=\" \")"
   ]
  },
  {
   "cell_type": "code",
   "execution_count": 3,
   "id": "a7736daf",
   "metadata": {},
   "outputs": [
    {
     "name": "stdout",
     "output_type": "stream",
     "text": [
      "enter a number1234567\n",
      "no. of digits are 7\n"
     ]
    }
   ],
   "source": [
    "num = int(input(\"enter a number\"))\n",
    "counter=0\n",
    "while(num!=0):\n",
    "    num=num//10\n",
    "    counter=counter+1\n",
    "print(\"no. of digits are\", counter)"
   ]
  },
  {
   "cell_type": "code",
   "execution_count": 3,
   "id": "7ff26c92",
   "metadata": {},
   "outputs": [
    {
     "name": "stdout",
     "output_type": "stream",
     "text": [
      "2000 2004 2008 2012 2016 2020 2024 2028 2032 2036 2040 2044 2048 2052 2056 2060 2064 2068 2072 2076 2080 2084 2088 2092 2096 2100 "
     ]
    }
   ],
   "source": [
    "n=2000\n",
    "while(n!=2101):\n",
    "    if(n%4==0):\n",
    "        print(n, end=\" \")\n",
    "    n=n+1"
   ]
  },
  {
   "cell_type": "code",
   "execution_count": null,
   "id": "dc3a29f4",
   "metadata": {},
   "outputs": [],
   "source": [
    "n=int(input(\"Enter a Number\"))\n",
    "power=3\n",
    "#power=int(input(\"Enter the power\"))\n",
    "#for i in range(1,power+1):\n",
    "while(power!=0):\n",
    "    n=n*n\n",
    "    power=power-1"
   ]
  },
  {
   "cell_type": "code",
   "execution_count": null,
   "id": "f11bdd41",
   "metadata": {},
   "outputs": [],
   "source": []
  }
 ],
 "metadata": {
  "kernelspec": {
   "display_name": "Python 3 (ipykernel)",
   "language": "python",
   "name": "python3"
  },
  "language_info": {
   "codemirror_mode": {
    "name": "ipython",
    "version": 3
   },
   "file_extension": ".py",
   "mimetype": "text/x-python",
   "name": "python",
   "nbconvert_exporter": "python",
   "pygments_lexer": "ipython3",
   "version": "3.9.13"
  }
 },
 "nbformat": 4,
 "nbformat_minor": 5
}
