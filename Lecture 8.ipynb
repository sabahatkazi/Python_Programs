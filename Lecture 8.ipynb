{
 "cells": [
  {
   "cell_type": "code",
   "execution_count": 2,
   "id": "09560ad4",
   "metadata": {},
   "outputs": [
    {
     "name": "stdout",
     "output_type": "stream",
     "text": [
      "Enter a Numerator2\n",
      "Enter the final term10\n",
      "2/2 + 2/4 + 2/6 + 2/8 + 2/10 = 5.0\n"
     ]
    }
   ],
   "source": [
    "#2/2 + 2/4 +2/6\n",
    "#fix this\n",
    "n=int(input(\"Enter a Numerator\"))\n",
    "d=2\n",
    "sum=0\n",
    "f=int(input(\"Enter the final term\")) \n",
    "for i in range(2,f+1,2):\n",
    "    t=str(n)+\"/\"+str(i)\n",
    "    if(i!=f): \n",
    "        print(t,end=\" + \") \n",
    "    else:\n",
    "        print(t,end=\" \")\n",
    "    sum=sum+(n/d)\n",
    "print(\"=\",sum)"
   ]
  },
  {
   "cell_type": "code",
   "execution_count": 10,
   "id": "9a17c723",
   "metadata": {},
   "outputs": [
    {
     "name": "stdout",
     "output_type": "stream",
     "text": [
      "This is a valid Identification number\n"
     ]
    }
   ],
   "source": [
    "#Eg : 654321 , 820156=correct\n",
    "\n",
    "n= 306149\n",
    "md=0\n",
    "i=6\n",
    "sum=0\n",
    "while(n!=0):\n",
    "    d=n%10\n",
    "    md=d*i\n",
    "    i=i-1 \n",
    "    sum= sum+md\n",
    "    n=n//10\n",
    "rem=sum%11\n",
    "if(rem==0):\n",
    "    print(\"This is a valid Identification number\")\n",
    "else:\n",
    "    print(\"Invalid Identification Number\")\n",
    "#    for i in range(6,0,-1):\n",
    "#        md=i*d\n",
    "        \n"
   ]
  },
  {
   "cell_type": "code",
   "execution_count": 16,
   "id": "7c023ad5",
   "metadata": {},
   "outputs": [
    {
     "name": "stdout",
     "output_type": "stream",
     "text": [
      "1\n",
      "22\n",
      "333\n",
      "4444\n",
      "55555\n"
     ]
    }
   ],
   "source": [
    "#Pattern Printing\n",
    "\n",
    "for i in range(1,6):\n",
    "    for j in range(1,i+1):       \n",
    "        print(i,end=\"\")\n",
    "    print(\"\")"
   ]
  },
  {
   "cell_type": "code",
   "execution_count": 20,
   "id": "dbb3f91f",
   "metadata": {},
   "outputs": [
    {
     "name": "stdout",
     "output_type": "stream",
     "text": [
      "Enter first number, A= 24\n",
      "Enter first number, B= 35\n",
      "Value of A is, A= 35\n",
      "Value of B is, B= 24\n",
      "Value of temp is, temp= 24\n"
     ]
    }
   ],
   "source": [
    "#swap_2_numbers\n",
    "\n",
    "a= int(input(\"Enter first number, A= \"))\n",
    "b= int(input(\"Enter first number, B= \"))\n",
    "temp=a\n",
    "a=b\n",
    "b=temp\n",
    "print(\"Value of A is, A=\",a)\n",
    "print(\"Value of B is, B=\",b)\n",
    "print(\"Value of temp is, temp=\",temp)"
   ]
  },
  {
   "cell_type": "code",
   "execution_count": 25,
   "id": "84d166fc",
   "metadata": {},
   "outputs": [
    {
     "name": "stdout",
     "output_type": "stream",
     "text": [
      "1 \n",
      "2 4 \n",
      "3 6 9 \n",
      "4 8 12 16 \n",
      "5 10 15 20 25 \n",
      "6 12 18 24 30 36 \n",
      "7 14 21 28 35 42 49 \n",
      "8 16 24 32 40 48 56 64 \n"
     ]
    }
   ],
   "source": [
    "#pattern printing\n",
    "value=0\n",
    "for i in range(1,9):\n",
    "    for j in range(1,i+1):\n",
    "        value=i*j\n",
    "        print(value, end=\" \")\n",
    "    print()"
   ]
  },
  {
   "cell_type": "code",
   "execution_count": 29,
   "id": "cdfa649c",
   "metadata": {},
   "outputs": [
    {
     "name": "stdout",
     "output_type": "stream",
     "text": [
      "Enter a number4\n",
      " \n",
      "0  \n",
      "1 2  \n",
      "3 4 5  \n",
      "6 7 8 9  \n"
     ]
    }
   ],
   "source": [
    "#pattern printing\n",
    "num = int(input(\"Enter a number\"))\n",
    "var = 0\n",
    "for i in range(0,num+1):\n",
    "    for j in range(0,i):\n",
    "        print(var, end=\" \")\n",
    "        var= var+1      #var is used to keep track of the current value that is printed, we increment it everytime.\n",
    "    print(\" \")"
   ]
  },
  {
   "cell_type": "code",
   "execution_count": null,
   "id": "050ee124",
   "metadata": {},
   "outputs": [],
   "source": [
    "#9 \n",
    "#8 7 \n",
    "#6 5 4 \n",
    "#3 2 1 0\n",
    "\n",
    "num = int(input(\"Enter a number you want to start printing from \"))\n",
    "var= int(input(\"Rows of the pattern \"))\n",
    "for i in range(0,var+1):\n",
    "    for j in range(0,i):\n",
    "        print(num,end=\" \")\n",
    "        num = num-1\n",
    "    print(\" \")"
   ]
  },
  {
   "cell_type": "code",
   "execution_count": null,
   "id": "39098bcc",
   "metadata": {},
   "outputs": [],
   "source": []
  },
  {
   "cell_type": "code",
   "execution_count": null,
   "id": "bac7016b",
   "metadata": {},
   "outputs": [],
   "source": []
  },
  {
   "cell_type": "code",
   "execution_count": null,
   "id": "d02c28f6",
   "metadata": {},
   "outputs": [],
   "source": []
  }
 ],
 "metadata": {
  "kernelspec": {
   "display_name": "Python 3 (ipykernel)",
   "language": "python",
   "name": "python3"
  },
  "language_info": {
   "codemirror_mode": {
    "name": "ipython",
    "version": 3
   },
   "file_extension": ".py",
   "mimetype": "text/x-python",
   "name": "python",
   "nbconvert_exporter": "python",
   "pygments_lexer": "ipython3",
   "version": "3.9.13"
  }
 },
 "nbformat": 4,
 "nbformat_minor": 5
}
