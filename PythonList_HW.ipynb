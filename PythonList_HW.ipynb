{
 "cells": [
  {
   "cell_type": "code",
   "execution_count": 31,
   "id": "e5ea0e7a",
   "metadata": {},
   "outputs": [
    {
     "name": "stdout",
     "output_type": "stream",
     "text": [
      "Name   Num   Alex\n",
      "Eloise\n",
      "Bryn\n",
      "Lois\n",
      "Carol\n",
      "Kevin\n",
      "12\n",
      "25\n",
      "18\n",
      "7\n",
      "5\n",
      "14\n"
     ]
    }
   ],
   "source": [
    "list= ['Name','Num',['Alex', 'Eloise', 'Bryn', 'Lois', 'Carol', 'Kevin'],['12','25','18','7','5','14']]\n",
    "for i in range(0,4):\n",
    "    if(i<=1):\n",
    "        print(list[i],end=\"   \")\n",
    "    else:\n",
    "        for j in range(0,6):\n",
    "            print(list[i][j])"
   ]
  },
  {
   "cell_type": "code",
   "execution_count": null,
   "id": "6f15f7a4",
   "metadata": {
    "collapsed": true
   },
   "outputs": [],
   "source": []
  },
  {
   "cell_type": "code",
   "execution_count": 11,
   "id": "22a38148",
   "metadata": {},
   "outputs": [
    {
     "name": "stdout",
     "output_type": "stream",
     "text": [
      "Name   Num\n",
      "----------\n",
      "Alex   12 \n",
      "Eloise 25 \n",
      "Bryn   18 \n",
      "Lois   7  \n",
      "Carol  5  \n",
      "Kevin  14 \n"
     ]
    }
   ],
   "source": [
    "Name= ['Alex', 'Eloise', 'Bryn', 'Lois', 'Carol', 'Kevin']\n",
    "Num= ['12','25','18','7','5','14']\n",
    "layout = \"{:<7}{:<3}\"                #'<' for left alignment, '>' for right alignment, '^' for center alignment.\n",
    "print(layout.format('Name','Num'))\n",
    "print('-'*10)\n",
    "for i in range(0,6):\n",
    "    print(layout.format(Name[i],Num[i]))\n"
   ]
  },
  {
   "cell_type": "code",
   "execution_count": 68,
   "id": "6fb4bd29",
   "metadata": {
    "scrolled": true
   },
   "outputs": [
    {
     "name": "stdout",
     "output_type": "stream",
     "text": [
      "Flower_Name    InStock   \n",
      "----------------------\n",
      "myrtle         yes       \n",
      "violet         yes       \n",
      "fuchsia        no        \n",
      "buttercup      no        \n",
      "daisy          no        \n",
      "rose           yes       \n",
      "aster          no        \n",
      "orchid         yes       \n",
      "tulip          yes       \n",
      "camelin        no        \n"
     ]
    }
   ],
   "source": [
    "allflowers= ['myrtle','violet','fuchsia','buttercup','daisy','rose','aster','orchid','tulip','camelin']\n",
    "layout = \"{:15}{:10}\"\n",
    "print(layout.format('Flower_Name','InStock'))\n",
    "print('-'*22)\n",
    "for i in range(0,10):\n",
    "    if(allflowers[i][0]>'l'):\n",
    "        instock = 'yes'    \n",
    "        print(layout.format(allflowers[i],instock))\n",
    "    else: \n",
    "        instock = 'no'\n",
    "        print(layout.format(allflowers[i],instock))"
   ]
  },
  {
   "cell_type": "code",
   "execution_count": 67,
   "id": "91864473",
   "metadata": {},
   "outputs": [
    {
     "name": "stdout",
     "output_type": "stream",
     "text": [
      "weekday  pressure  max_temp\n",
      "mon      1012.8    13.0 \n",
      "tue      1023.2    12.0 \n",
      "wed      1038.0    13.0 \n",
      "thu      1031.1    12.0 \n",
      "fri      1019.8    9.0  \n",
      "sat      1015.7    10.0 \n",
      "sun      994.9     11.0 \n",
      "----------------------------\n",
      "Average  1019.36   11.4 \n"
     ]
    }
   ],
   "source": [
    "weekday = ['mon','tue','wed','thu','fri','sat','sun']\n",
    "pressure = [1012.80,1023.20,1038.00,1031.10,1019.80,1015.70,994.90]\n",
    "max_temp = [13.0,12.0,13.0,12.0,9.0,10.0,11.0]\n",
    "layout = \"{:<9}{:<10}{:<5}\"\n",
    "print(layout.format('weekday','pressure','max_temp'))\n",
    "sump=0\n",
    "sumt=0\n",
    "for i in range(0,7):\n",
    "    print(layout.format(weekday[i],pressure[i],max_temp[i]))\n",
    "    sump= sump+pressure[i]\n",
    "    sumt= sumt+max_temp[i]\n",
    "    \n",
    "avgp= sump/7\n",
    "avgt= sumt/7\n",
    "print('-'*28)\n",
    "print(layout.format('Average',f\"{avgp:.2f}\", f\"{avgt:.1f}\"))\n",
    "    "
   ]
  },
  {
   "cell_type": "code",
   "execution_count": 70,
   "id": "41c49450",
   "metadata": {},
   "outputs": [],
   "source": [
    "#list of 'n' size, where elements in the array starts from 1 and goes on till 'n'. No duplicate numbers. \n",
    "#you have to tell the missing number.\n",
    "#suppose n = 10, and numbers in the array are [1,2,3,5,6,7,8,9], missing number is 4."
   ]
  },
  {
   "cell_type": "code",
   "execution_count": null,
   "id": "7c269587",
   "metadata": {},
   "outputs": [],
   "source": [
    "#HW. Two numbers n1 and n2, you have to generate a list of such prime numbers in between the range n1 and n2. \n",
    "#which are not only prime, but there sum of digit is also prime."
   ]
  }
 ],
 "metadata": {
  "kernelspec": {
   "display_name": "Python 3 (ipykernel)",
   "language": "python",
   "name": "python3"
  },
  "language_info": {
   "codemirror_mode": {
    "name": "ipython",
    "version": 3
   },
   "file_extension": ".py",
   "mimetype": "text/x-python",
   "name": "python",
   "nbconvert_exporter": "python",
   "pygments_lexer": "ipython3",
   "version": "3.9.13"
  }
 },
 "nbformat": 4,
 "nbformat_minor": 5
}
