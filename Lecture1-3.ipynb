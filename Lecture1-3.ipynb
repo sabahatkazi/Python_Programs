{
 "cells": [
  {
   "cell_type": "code",
   "execution_count": 1,
   "id": "e3661aeb",
   "metadata": {},
   "outputs": [
    {
     "name": "stdout",
     "output_type": "stream",
     "text": [
      "My name is Sabahat\n"
     ]
    }
   ],
   "source": [
    "print(\"My name is Sabahat\")"
   ]
  },
  {
   "cell_type": "code",
   "execution_count": 3,
   "id": "af3fb41e",
   "metadata": {},
   "outputs": [
    {
     "name": "stdout",
     "output_type": "stream",
     "text": [
      "My name is Adaviyyah\n"
     ]
    }
   ],
   "source": [
    "name = \"Adaviyyah\"\n",
    "print(\"My name is\", name)"
   ]
  },
  {
   "cell_type": "code",
   "execution_count": 4,
   "id": "9b0822eb",
   "metadata": {},
   "outputs": [
    {
     "name": "stdout",
     "output_type": "stream",
     "text": [
      "My name is Sabahat My favourite colour is Blue My course is Computer My fav Number is 7\n"
     ]
    }
   ],
   "source": [
    "name= \"Sabahat\"\n",
    "colour= \"Blue\"\n",
    "course= \"Computer\"\n",
    "fav_num = 7\n",
    "print(\"My name is\", name, \"My favourite colour is\", colour, \"My course is\", course, \"My fav Number is\", fav_num)"
   ]
  },
  {
   "cell_type": "code",
   "execution_count": 5,
   "id": "d4929b53",
   "metadata": {},
   "outputs": [
    {
     "name": "stdout",
     "output_type": "stream",
     "text": [
      "My name is Sabahat\n",
      "My favourite colour is Blue\n",
      "My course is Computer\n",
      "My fav Number is 7\n"
     ]
    }
   ],
   "source": [
    "name= \"Sabahat\"\n",
    "colour= \"Blue\"\n",
    "course= \"Computer\"\n",
    "fav_num = 7\n",
    "print(\"My name is\", name) \n",
    "print(\"My favourite colour is\", colour) \n",
    "print(\"My course is\", course) \n",
    "print(\"My fav Number is\", fav_num)"
   ]
  },
  {
   "cell_type": "code",
   "execution_count": 9,
   "id": "7d21a817",
   "metadata": {},
   "outputs": [
    {
     "name": "stdout",
     "output_type": "stream",
     "text": [
      "My name is Sabahat \n",
      " My favourite colour is Blue \n",
      " My course is Computer \n",
      " My fav Number is 7 \n",
      "\n"
     ]
    }
   ],
   "source": [
    "name= \"Sabahat\"\n",
    "colour= \"Blue\"\n",
    "course= \"Computer\"\n",
    "fav_num = 7\n",
    "print(\"My name is\",name, \"\\n\" , \"My favourite colour is\",colour, \"\\n\" , \"My course is\",course, \"\\n\" , \"My fav Number is\",fav_num, \"\\n\" )"
   ]
  },
  {
   "cell_type": "code",
   "execution_count": 12,
   "id": "ef50b6d4",
   "metadata": {},
   "outputs": [
    {
     "name": "stdout",
     "output_type": "stream",
     "text": [
      "My name is Sabahat \n",
      "My favourite colour is Blue \n",
      "My course is Computer \n",
      "My fav Number is 7\n"
     ]
    }
   ],
   "source": [
    "name= \"Sabahat\"\n",
    "colour= \"Blue\"\n",
    "course= \"Computer\"\n",
    "fav_num = 7\n",
    "print(\"My name is\",name, \"\\nMy favourite colour is\",colour, \"\\nMy course is\",course,\"\\nMy fav Number is\",fav_num)"
   ]
  },
  {
   "cell_type": "code",
   "execution_count": 18,
   "id": "16eb86e9",
   "metadata": {},
   "outputs": [],
   "source": [
    "name= \"Sabahat \""
   ]
  },
  {
   "cell_type": "code",
   "execution_count": 4,
   "id": "be84e3ff",
   "metadata": {},
   "outputs": [
    {
     "name": "stdout",
     "output_type": "stream",
     "text": [
      "SabahatSabahatSabahatSabahatSabahat\n"
     ]
    }
   ],
   "source": [
    "name= \"Sabahat\"\n",
    "print(name*5)"
   ]
  },
  {
   "cell_type": "code",
   "execution_count": 19,
   "id": "014d6d6b",
   "metadata": {},
   "outputs": [
    {
     "name": "stdout",
     "output_type": "stream",
     "text": [
      "Sabahat Sabahat Sabahat Sabahat Sabahat \n"
     ]
    }
   ],
   "source": [
    "print(name*5)"
   ]
  },
  {
   "cell_type": "code",
   "execution_count": 20,
   "id": "089e4154",
   "metadata": {},
   "outputs": [
    {
     "name": "stdout",
     "output_type": "stream",
     "text": [
      "sum is 6\n"
     ]
    }
   ],
   "source": [
    "num1 = 2\n",
    "num2 = 4\n",
    "print(\"sum is\", num1+num2)"
   ]
  },
  {
   "cell_type": "code",
   "execution_count": 21,
   "id": "87fbf5f1",
   "metadata": {},
   "outputs": [
    {
     "name": "stdout",
     "output_type": "stream",
     "text": [
      "sum is 24\n"
     ]
    }
   ],
   "source": [
    "num1 = \"2\"\n",
    "num2 = \"4\"\n",
    "print(\"sum is\", num1+num2)"
   ]
  },
  {
   "cell_type": "code",
   "execution_count": 22,
   "id": "bb15208b",
   "metadata": {},
   "outputs": [
    {
     "name": "stdout",
     "output_type": "stream",
     "text": [
      "this is a longer string so we split it in 2 lines\n"
     ]
    }
   ],
   "source": [
    "print('this is a longer string so we split it in 2 lines')"
   ]
  },
  {
   "cell_type": "code",
   "execution_count": 8,
   "id": "832ddb2f",
   "metadata": {},
   "outputs": [
    {
     "name": "stdout",
     "output_type": "stream",
     "text": [
      "this is a longer string so we split it in 2 lines\n"
     ]
    }
   ],
   "source": [
    "print('this is a longer string so we \\\n",
    "split it in 2 lines')"
   ]
  },
  {
   "cell_type": "code",
   "execution_count": 24,
   "id": "5dd6909a",
   "metadata": {},
   "outputs": [
    {
     "name": "stdout",
     "output_type": "stream",
     "text": [
      "What is in a poem? Poems can be structured, with rhyming lines and meter, the rhythm and emphasis of a line based on syllabic beats. Poems can also be freeform, which follows no formal structure. The basic building block of a poem is a verse known as a stanza.\n"
     ]
    }
   ],
   "source": [
    "print(\"What is in a poem? Poems can be structured, with rhyming lines and meter, the rhythm and emphasis of a line based on syllabic beats. Poems can also be freeform, which follows no formal structure. The basic building block of a poem is a verse known as a stanza.\")"
   ]
  },
  {
   "cell_type": "code",
   "execution_count": 30,
   "id": "cb2bd87f",
   "metadata": {},
   "outputs": [
    {
     "name": "stdout",
     "output_type": "stream",
     "text": [
      "What is in a poem? Poems can be structured, with rhyming lines and meter, \n",
      " the rhythm and emphasis of a line based on syllabic beats. Poems can also be freeform, \n",
      " which follows no formal structure. The basic building block of a poem is a verse known as a stanza.\n"
     ]
    }
   ],
   "source": [
    "#multiline printing using \"\"\" triple inverted comma \"\"\"\n",
    "print(\"\"\"What is in a poem? Poems can be structured, with rhyming lines and meter, \n",
    " the rhythm and emphasis of a line based on syllabic beats. Poems can also be freeform, \n",
    " which follows no formal structure. The basic building block of a poem is a verse known as a stanza.\"\"\")"
   ]
  },
  {
   "cell_type": "code",
   "execution_count": 9,
   "id": "5bfb061a",
   "metadata": {},
   "outputs": [
    {
     "name": "stdout",
     "output_type": "stream",
     "text": [
      "What is in a poem? Poems can be structured, with rhyming lines and meter,  the rhythm and emphasis of a line based on syllabic beats. Poems can also be freeform,  which follows no formal structure. The basic building block of a poem is a verse known as a stanza.\n"
     ]
    }
   ],
   "source": [
    "print(\"\"\"What is in a poem? Poems can be structured, with rhyming lines and meter,  \\\n",
    "the rhythm and emphasis of a line based on syllabic beats. Poems can also be freeform,  \\\n",
    "which follows no formal structure. The basic building block of a poem is a verse known as a stanza.\"\"\")"
   ]
  },
  {
   "cell_type": "code",
   "execution_count": 7,
   "id": "38c199e7",
   "metadata": {},
   "outputs": [
    {
     "name": "stdout",
     "output_type": "stream",
     "text": [
      "Sabahat\n"
     ]
    }
   ],
   "source": [
    "name = 'Sabahat'\n",
    "print(name)"
   ]
  },
  {
   "cell_type": "code",
   "execution_count": 8,
   "id": "3ce2556b",
   "metadata": {},
   "outputs": [
    {
     "ename": "SyntaxError",
     "evalue": "invalid syntax (1954180108.py, line 1)",
     "output_type": "error",
     "traceback": [
      "\u001b[1;36m  File \u001b[1;32m\"C:\\Users\\kazis\\AppData\\Local\\Temp\\ipykernel_27844\\1954180108.py\"\u001b[1;36m, line \u001b[1;32m1\u001b[0m\n\u001b[1;33m    word = 'Sabahat's laptop'\u001b[0m\n\u001b[1;37m                    ^\u001b[0m\n\u001b[1;31mSyntaxError\u001b[0m\u001b[1;31m:\u001b[0m invalid syntax\n"
     ]
    }
   ],
   "source": [
    "word = 'Sabahat's laptop'"
   ]
  },
  {
   "cell_type": "code",
   "execution_count": 10,
   "id": "f22d9adf",
   "metadata": {},
   "outputs": [
    {
     "name": "stdout",
     "output_type": "stream",
     "text": [
      "Sabahat's Laptop\n"
     ]
    }
   ],
   "source": [
    "word = \"Sabahat's Laptop\"\n",
    "print(word)"
   ]
  },
  {
   "cell_type": "code",
   "execution_count": 11,
   "id": "3d8b8dd0",
   "metadata": {},
   "outputs": [
    {
     "ename": "SyntaxError",
     "evalue": "invalid syntax (2472585208.py, line 1)",
     "output_type": "error",
     "traceback": [
      "\u001b[1;36m  File \u001b[1;32m\"C:\\Users\\kazis\\AppData\\Local\\Temp\\ipykernel_27844\\2472585208.py\"\u001b[1;36m, line \u001b[1;32m1\u001b[0m\n\u001b[1;33m    sentence = \"Sabahat said to her friend, \"hello, i am learning python\" \"\u001b[0m\n\u001b[1;37m                                             ^\u001b[0m\n\u001b[1;31mSyntaxError\u001b[0m\u001b[1;31m:\u001b[0m invalid syntax\n"
     ]
    }
   ],
   "source": [
    "sentence = \"Sabahat said to her friend, \"hello, i am learning python\" \"\n",
    "print(sentence)"
   ]
  },
  {
   "cell_type": "code",
   "execution_count": 12,
   "id": "590a2973",
   "metadata": {},
   "outputs": [
    {
     "name": "stdout",
     "output_type": "stream",
     "text": [
      "Sabahat said to her friend, \"hello, i am learning python\" \n"
     ]
    }
   ],
   "source": [
    "sentence = \"\"\"Sabahat said to her friend, \"hello, i am learning python\" \"\"\"\n",
    "print(sentence)"
   ]
  },
  {
   "cell_type": "code",
   "execution_count": 13,
   "id": "173525dd",
   "metadata": {},
   "outputs": [
    {
     "name": "stdout",
     "output_type": "stream",
     "text": [
      "Sabahat said to her friend, \"hello, i am learning python\" \n"
     ]
    }
   ],
   "source": [
    "sentence = \"Sabahat said to her friend, \\\"hello, i am learning python\\\" \"\n",
    "print(sentence)"
   ]
  },
  {
   "cell_type": "code",
   "execution_count": 14,
   "id": "27624728",
   "metadata": {},
   "outputs": [
    {
     "name": "stdout",
     "output_type": "stream",
     "text": [
      "Sabahat said to her friend, \"hello, i am learning \"\"\" \" \n"
     ]
    }
   ],
   "source": [
    "sentence = \"\"\"Sabahat said to her friend, \"hello, i am learning \\\"\"\" \" \"\"\"\n",
    "print(sentence)"
   ]
  },
  {
   "cell_type": "code",
   "execution_count": 18,
   "id": "1c7951b5",
   "metadata": {},
   "outputs": [
    {
     "name": "stdout",
     "output_type": "stream",
     "text": [
      "Please Enter your name Sabahat\n",
      "Hello, your name is Sabahat\n"
     ]
    }
   ],
   "source": [
    "name = input(\"Please Enter your name \")\n",
    "print(\"Hello, your name is\", name)"
   ]
  },
  {
   "cell_type": "code",
   "execution_count": 19,
   "id": "15ff1afe",
   "metadata": {},
   "outputs": [
    {
     "name": "stdout",
     "output_type": "stream",
     "text": [
      "Please enter first number5\n",
      "Please enter second number8\n",
      "Sum is 58\n"
     ]
    }
   ],
   "source": [
    "num1 = input(\"Please enter first number \")\n",
    "num2 = input(\"Please enter second number \")\n",
    "sum = num1+num2\n",
    "print(\"Sum is\", sum)"
   ]
  },
  {
   "cell_type": "code",
   "execution_count": 20,
   "id": "254d7853",
   "metadata": {},
   "outputs": [
    {
     "name": "stdout",
     "output_type": "stream",
     "text": [
      "Please enter first number 5\n",
      "Please enter second number 8\n",
      "Sum is 13\n"
     ]
    }
   ],
   "source": [
    "num1 = int(input(\"Please enter first number \"))\n",
    "num2 = int(input(\"Please enter second number \"))\n",
    "sum = num1+num2\n",
    "print(\"Sum is\", sum)"
   ]
  },
  {
   "cell_type": "code",
   "execution_count": 22,
   "id": "eb843ffe",
   "metadata": {},
   "outputs": [
    {
     "name": "stdout",
     "output_type": "stream",
     "text": [
      "Please enter first number 6\n",
      "Please enter second number 3\n",
      "Sum is 9\n",
      "Difference is 3\n",
      "Multiplication is 18\n",
      "Division is 2.0\n"
     ]
    }
   ],
   "source": [
    "num1 = int(input(\"Please enter first number \"))\n",
    "num2 = int(input(\"Please enter second number \"))\n",
    "sum1 = num1+num2\n",
    "difference = num1-num2\n",
    "multiply = num1*num2\n",
    "division = num1/num2\n",
    "print(\"Sum is\" , sum1)\n",
    "print(\"Difference is\" , difference)\n",
    "print(\"Multiplication is\" , multiply)\n",
    "print(\"Division is\" , division)"
   ]
  },
  {
   "cell_type": "code",
   "execution_count": 23,
   "id": "c638b4bb",
   "metadata": {},
   "outputs": [
    {
     "name": "stdout",
     "output_type": "stream",
     "text": [
      "Please enter first number 8\n",
      "Please enter second number 3\n",
      "quotinet is 2.6666666666666665\n",
      "whole quotient is 2\n",
      "remainder is 2\n"
     ]
    }
   ],
   "source": [
    "num1 = int(input(\"Please enter first number \"))\n",
    "num2 = int(input(\"Please enter second number \"))\n",
    "quotient = num1/num2\n",
    "whole_quo = num1//num2\n",
    "remainder = num1%num2\n",
    "print(\"quotinet is\", quotient)\n",
    "print(\"whole quotient is\", whole_quo)\n",
    "print(\"remainder is\", remainder)"
   ]
  },
  {
   "cell_type": "code",
   "execution_count": 24,
   "id": "0bc06fe8",
   "metadata": {},
   "outputs": [
    {
     "name": "stdout",
     "output_type": "stream",
     "text": [
      "last digit is 3\n"
     ]
    }
   ],
   "source": [
    "num1 = 4563\n",
    "last_digit= num1%10\n",
    "print(\"last digit is\", last_digit)"
   ]
  },
  {
   "cell_type": "code",
   "execution_count": 25,
   "id": "47542e39",
   "metadata": {},
   "outputs": [
    {
     "name": "stdout",
     "output_type": "stream",
     "text": [
      "last digit is 563\n"
     ]
    }
   ],
   "source": [
    "num1 = 4563\n",
    "last_digits= num1%1000\n",
    "print(\"last digit is\", last_digits)"
   ]
  },
  {
   "cell_type": "code",
   "execution_count": 26,
   "id": "4197de01",
   "metadata": {},
   "outputs": [
    {
     "name": "stdout",
     "output_type": "stream",
     "text": [
      "first digit is 4\n"
     ]
    }
   ],
   "source": [
    "num1 = 4563\n",
    "first_digit= num1//1000\n",
    "print(\"first digit is\", first_digit)"
   ]
  },
  {
   "cell_type": "code",
   "execution_count": 27,
   "id": "a33e7e30",
   "metadata": {},
   "outputs": [
    {
     "name": "stdout",
     "output_type": "stream",
     "text": [
      "first digit is 45\n"
     ]
    }
   ],
   "source": [
    "num1 = 4563\n",
    "first_digit= num1//100\n",
    "print(\"first 2 digits\", first_digit)"
   ]
  },
  {
   "cell_type": "code",
   "execution_count": 30,
   "id": "20fd90eb",
   "metadata": {},
   "outputs": [
    {
     "name": "stdout",
     "output_type": "stream",
     "text": [
      "mean is 65.0\n"
     ]
    }
   ],
   "source": [
    "mark1 = 60\n",
    "mark2 = 70\n",
    "mean = (mark1+mark2)/2\n",
    "print(\"mean is\", mean)"
   ]
  },
  {
   "cell_type": "code",
   "execution_count": 1,
   "id": "c453de88",
   "metadata": {},
   "outputs": [
    {
     "name": "stdout",
     "output_type": "stream",
     "text": [
      "Enter Number 4\n",
      "square is 16\n"
     ]
    }
   ],
   "source": [
    "num = int(input(\"Enter Number \"))\n",
    "square = num*num\n",
    "print(\"square is\", square)"
   ]
  },
  {
   "cell_type": "code",
   "execution_count": 32,
   "id": "413d6508",
   "metadata": {},
   "outputs": [
    {
     "name": "stdout",
     "output_type": "stream",
     "text": [
      "Enter Number 4\n",
      "square is 16\n"
     ]
    }
   ],
   "source": [
    "num = int(input(\"Enter Number \"))\n",
    "square = num**2\n",
    "print(\"square is\", square)"
   ]
  },
  {
   "cell_type": "code",
   "execution_count": 33,
   "id": "37723dc4",
   "metadata": {},
   "outputs": [
    {
     "name": "stdout",
     "output_type": "stream",
     "text": [
      "Enter Number 2\n",
      "cube is 8\n"
     ]
    }
   ],
   "source": [
    "num = int(input(\"Enter Number \"))\n",
    "cube = num**3\n",
    "print(\"cube is\", cube)"
   ]
  },
  {
   "cell_type": "code",
   "execution_count": 4,
   "id": "c04fe50c",
   "metadata": {},
   "outputs": [
    {
     "name": "stdout",
     "output_type": "stream",
     "text": [
      "Enter Number 2.5\n",
      "number is 2.5\n"
     ]
    }
   ],
   "source": [
    "num = float(input(\"Enter Number \"))\n",
    "print(\"number is\",num)"
   ]
  },
  {
   "cell_type": "code",
   "execution_count": 3,
   "id": "c4e79f40",
   "metadata": {},
   "outputs": [
    {
     "name": "stdout",
     "output_type": "stream",
     "text": [
      "Enter Number 4\n",
      "number is 4\n"
     ]
    }
   ],
   "source": [
    "num = int(input(\"Enter Number \"))\n",
    "print(\"number is\",num)"
   ]
  },
  {
   "cell_type": "code",
   "execution_count": 7,
   "id": "dd7926b4",
   "metadata": {},
   "outputs": [
    {
     "name": "stdout",
     "output_type": "stream",
     "text": [
      "1\n",
      "2\n",
      "3\n",
      "4\n",
      "5\n",
      "6\n",
      "7\n",
      "8\n",
      "9\n",
      "10\n",
      "11\n",
      "12\n",
      "13\n",
      "14\n",
      "15\n",
      "16\n",
      "17\n",
      "18\n",
      "19\n"
     ]
    }
   ],
   "source": [
    "for i in range(1,20):\n",
    "    print(i)"
   ]
  },
  {
   "cell_type": "code",
   "execution_count": 8,
   "id": "e38daf8c",
   "metadata": {},
   "outputs": [
    {
     "name": "stdout",
     "output_type": "stream",
     "text": [
      "1\n",
      "2\n",
      "3\n",
      "4\n",
      "5\n",
      "6\n",
      "7\n",
      "8\n",
      "9\n",
      "10\n",
      "11\n",
      "12\n",
      "13\n",
      "14\n",
      "15\n",
      "16\n",
      "17\n",
      "18\n",
      "19\n",
      "20\n"
     ]
    }
   ],
   "source": [
    "for i in range(1,21):\n",
    "    print(i)"
   ]
  },
  {
   "cell_type": "code",
   "execution_count": 10,
   "id": "e126a2c8",
   "metadata": {},
   "outputs": [
    {
     "name": "stdout",
     "output_type": "stream",
     "text": [
      "1\n",
      "3\n",
      "5\n",
      "7\n",
      "9\n",
      "11\n",
      "13\n",
      "15\n",
      "17\n",
      "19\n"
     ]
    }
   ],
   "source": [
    "#for loop to print the odd numbers in first 20 number. \n",
    "for i in range(1,20,2):\n",
    "    print(i)"
   ]
  },
  {
   "cell_type": "code",
   "execution_count": 12,
   "id": "3bfc6c14",
   "metadata": {},
   "outputs": [
    {
     "name": "stdout",
     "output_type": "stream",
     "text": [
      "1 3 5 7 9 11 13 15 17 19 "
     ]
    }
   ],
   "source": [
    "#for loop to print the odd numbers in first 20 number. (in horizontal manner)\n",
    "for i in range(1,20,2):\n",
    "    print(i,end=\" \")"
   ]
  },
  {
   "cell_type": "code",
   "execution_count": 14,
   "id": "e751727b",
   "metadata": {},
   "outputs": [
    {
     "name": "stdout",
     "output_type": "stream",
     "text": [
      "Enter a Number 2\n",
      "The table is \n",
      "2 * 1 = 2\n",
      "2 * 2 = 4\n",
      "2 * 3 = 6\n",
      "2 * 4 = 8\n",
      "2 * 5 = 10\n",
      "2 * 6 = 12\n",
      "2 * 7 = 14\n",
      "2 * 8 = 16\n",
      "2 * 9 = 18\n",
      "2 * 10 = 20\n"
     ]
    }
   ],
   "source": [
    "num= int(input(\"Enter a Number \"))\n",
    "print(\"The table is \")\n",
    "for i in range(1,11,1):\n",
    "    multi= num*i\n",
    "    print(num,\"*\",i,\"=\",multi)"
   ]
  },
  {
   "cell_type": "code",
   "execution_count": 16,
   "id": "22e2b4bb",
   "metadata": {},
   "outputs": [
    {
     "name": "stdout",
     "output_type": "stream",
     "text": [
      "Enter a Number 7\n",
      "It is a Prime Number\n"
     ]
    }
   ],
   "source": [
    "num= int(input(\"Enter a Number \"))\n",
    "factor=0\n",
    "for i in range(1,num+1):\n",
    "    if(num%i==0):\n",
    "        factor= factor+1\n",
    "if(factor==2):\n",
    "    print(\"It is a Prime Number\")\n",
    "else: \n",
    "    print(\"It is not a Prime Number\")\n",
    "    "
   ]
  },
  {
   "cell_type": "code",
   "execution_count": 19,
   "id": "74939d4c",
   "metadata": {},
   "outputs": [
    {
     "name": "stdout",
     "output_type": "stream",
     "text": [
      "Enter a Number 7\n",
      "It is not a Composite Number\n"
     ]
    }
   ],
   "source": [
    "num= int(input(\"Enter a Number \"))\n",
    "factor=0\n",
    "for i in range(1,num+1):\n",
    "    if(num%i==0):\n",
    "        factor=factor+1\n",
    "if(factor>2):\n",
    "    print(\"It is a Composite Number\")\n",
    "else:\n",
    "    print(\"It is not a Composite Number\")"
   ]
  }
 ],
 "metadata": {
  "kernelspec": {
   "display_name": "Python 3 (ipykernel)",
   "language": "python",
   "name": "python3"
  },
  "language_info": {
   "codemirror_mode": {
    "name": "ipython",
    "version": 3
   },
   "file_extension": ".py",
   "mimetype": "text/x-python",
   "name": "python",
   "nbconvert_exporter": "python",
   "pygments_lexer": "ipython3",
   "version": "3.9.13"
  }
 },
 "nbformat": 4,
 "nbformat_minor": 5
}
