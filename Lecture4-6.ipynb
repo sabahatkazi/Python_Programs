{
 "cells": [
  {
   "cell_type": "code",
   "execution_count": 15,
   "id": "1e03f4ac",
   "metadata": {},
   "outputs": [
    {
     "name": "stdout",
     "output_type": "stream",
     "text": [
      "Enter a Number 3\n",
      "Sum of the number is 6\n"
     ]
    }
   ],
   "source": [
    "#Sum of first n numbers\n",
    "num= int(input(\"Enter a Number \"))\n",
    "sum = 0\n",
    "for i in range(0,num+1):\n",
    "    sum=sum+i\n",
    "print(\"Sum of the number is\",sum)"
   ]
  },
  {
   "cell_type": "code",
   "execution_count": 12,
   "id": "e872f668",
   "metadata": {},
   "outputs": [
    {
     "name": "stdout",
     "output_type": "stream",
     "text": [
      "Enter a Number 5\n",
      "factorial of the number is 120\n"
     ]
    }
   ],
   "source": [
    "#factorial of the number\n",
    "num= int(input(\"Enter a Number \"))\n",
    "factorial = 1\n",
    "for i in range(num,1,-1):\n",
    "    factorial=factorial*i\n",
    "print(\"factorial of the number is\",factorial)"
   ]
  },
  {
   "cell_type": "code",
   "execution_count": 17,
   "id": "8ceca001",
   "metadata": {},
   "outputs": [
    {
     "name": "stdout",
     "output_type": "stream",
     "text": [
      "Enter a Number 5\n",
      "factorial of the number is 120\n"
     ]
    }
   ],
   "source": [
    "#Alternate Program for factorial of the number\n",
    "num= int(input(\"Enter a Number \"))\n",
    "factorial = 1\n",
    "for i in range(1,num+1):\n",
    "    factorial=factorial*i\n",
    "print(\"factorial of the number is\",factorial)"
   ]
  },
  {
   "cell_type": "code",
   "execution_count": 5,
   "id": "a58b5b25",
   "metadata": {},
   "outputs": [
    {
     "name": "stdout",
     "output_type": "stream",
     "text": [
      "Enter a Number9\n",
      "2\n",
      "4\n",
      "6\n",
      "8\n"
     ]
    }
   ],
   "source": [
    "#program for even number\n",
    "num= int(input(\"Enter a Number\"))\n",
    "for i in range(1,num+1):\n",
    "    if(i%2==0):\n",
    "        print(i)"
   ]
  },
  {
   "cell_type": "code",
   "execution_count": 10,
   "id": "3c77faf5",
   "metadata": {},
   "outputs": [
    {
     "name": "stdout",
     "output_type": "stream",
     "text": [
      "Enter a number100\n",
      "1 2 3 5 7 11 13 17 19 23 29 31 37 41 43 47 53 59 61 67 71 73 79 83 89 97 "
     ]
    }
   ],
   "source": [
    "num= int(input(\"Enter a number\"))\n",
    "for i in range(1,num+1):\n",
    "    counter=0 #counter is to count number of factors\n",
    "    for n in range(1,i+1):\n",
    "        if(i%n==0):\n",
    "            counter=counter+1\n",
    "    if(counter==2 or counter==1):  #I have written counter==1 only to print number '1'\n",
    "        print(i,end=' ')"
   ]
  },
  {
   "cell_type": "code",
   "execution_count": 12,
   "id": "80f1b9a4",
   "metadata": {},
   "outputs": [
    {
     "name": "stdout",
     "output_type": "stream",
     "text": [
      "sum is  4\n"
     ]
    }
   ],
   "source": [
    "num= 6581\n",
    "first_digit= num//1000\n",
    "last_digit= num%10\n",
    "sum=first_digit+last_digit\n",
    "print(\"sum is \",sum)"
   ]
  },
  {
   "cell_type": "code",
   "execution_count": 15,
   "id": "e1f6f705",
   "metadata": {},
   "outputs": [
    {
     "name": "stdout",
     "output_type": "stream",
     "text": [
      "1 3 5 7 9 11 13 15 17 19 "
     ]
    }
   ],
   "source": [
    "counter=0\n",
    "i=1\n",
    "while(counter!=10):\n",
    "    if(i%2!=0):\n",
    "        print(i, end=' ')\n",
    "        counter=counter+1   \n",
    "    i=i+1"
   ]
  },
  {
   "cell_type": "code",
   "execution_count": 16,
   "id": "41026483",
   "metadata": {},
   "outputs": [
    {
     "name": "stdout",
     "output_type": "stream",
     "text": [
      "2 4 6 8 10 12 14 16 18 20 "
     ]
    }
   ],
   "source": [
    "counter=0\n",
    "i=1\n",
    "while(counter!=10):\n",
    "    if(i%2==0):\n",
    "        print(i,end=' ')\n",
    "        counter=counter+1\n",
    "    i=i+1"
   ]
  },
  {
   "cell_type": "code",
   "execution_count": 17,
   "id": "622e8d6f",
   "metadata": {},
   "outputs": [
    {
     "name": "stdout",
     "output_type": "stream",
     "text": [
      "the number of digits in this number is 4\n"
     ]
    }
   ],
   "source": [
    "num=4567\n",
    "counter=0\n",
    "while(num!=0):\n",
    "    counter=counter+1\n",
    "    num=num//10\n",
    "print(\"the number of digits in this number is\", counter)"
   ]
  },
  {
   "cell_type": "code",
   "execution_count": 18,
   "id": "0bfe36bb",
   "metadata": {},
   "outputs": [
    {
     "name": "stdout",
     "output_type": "stream",
     "text": [
      "Enter a number 380983\n",
      "The number of digits in this number is 6\n"
     ]
    }
   ],
   "source": [
    "num= int(input(\"Enter a number \"))\n",
    "counter=0\n",
    "while(num!=0):\n",
    "    counter=counter+1\n",
    "    num=num//10\n",
    "print(\"The number of digits in this number is\", counter)"
   ]
  },
  {
   "cell_type": "code",
   "execution_count": 19,
   "id": "77e1f044",
   "metadata": {},
   "outputs": [
    {
     "name": "stdout",
     "output_type": "stream",
     "text": [
      "sum is  7\n"
     ]
    }
   ],
   "source": [
    "num= 6581\n",
    "first_digit= num//1000\n",
    "last_digit= num%10\n",
    "sum=first_digit+last_digit\n",
    "print(\"sum is \",sum)"
   ]
  },
  {
   "cell_type": "code",
   "execution_count": 26,
   "id": "a059c282",
   "metadata": {},
   "outputs": [
    {
     "name": "stdout",
     "output_type": "stream",
     "text": [
      "Enter a number 2345\n",
      "fd_divisor 1000\n",
      "counter 4\n",
      "number is 0\n",
      "copy of number is 2345\n",
      "sum is  7\n"
     ]
    }
   ],
   "source": [
    "num= int(input(\"Enter a number \"))\n",
    "n= num\n",
    "counter=0\n",
    "while(num!=0):\n",
    "    counter=counter+1\n",
    "    num=num//10\n",
    "#now counter has no. of digits\n",
    "fd_divisor=10**(counter-1)\n",
    "ld_divisor=10\n",
    "first_digit= n//fd_divisor\n",
    "last_digit= n%ld_divisor\n",
    "sum= first_digit+last_digit\n",
    "print(\"fd_divisor\", fd_divisor)\n",
    "print(\"counter\", counter)\n",
    "print(\"number is\", num)\n",
    "print(\"copy of number is\", n)\n",
    "print(\"sum is \", sum)"
   ]
  },
  {
   "cell_type": "code",
   "execution_count": 38,
   "id": "88317ad2",
   "metadata": {},
   "outputs": [
    {
     "name": "stdout",
     "output_type": "stream",
     "text": [
      "\n",
      "*\n",
      "\n",
      "*\n",
      "*\n",
      "\n",
      "*\n",
      "*\n",
      "*\n",
      "\n",
      "*\n",
      "*\n",
      "*\n",
      "*\n",
      "\n",
      "*\n",
      "*\n",
      "*\n",
      "*\n",
      "*\n"
     ]
    }
   ],
   "source": [
    "#Practice\n",
    "n=5\n",
    "for i in range(1,n+1):\n",
    "    print()\n",
    "    for j in range(1,i+1):\n",
    "        print(\"*\")     "
   ]
  },
  {
   "cell_type": "code",
   "execution_count": 41,
   "id": "9f4158d7",
   "metadata": {},
   "outputs": [
    {
     "name": "stdout",
     "output_type": "stream",
     "text": [
      "Enter a Phone Number 1232\n",
      "Invalid Phone Number\n"
     ]
    }
   ],
   "source": [
    "num = int(input(\"Enter a Phone Number \"))\n",
    "counter=0\n",
    "while(num!=0):\n",
    "    counter=counter+1\n",
    "    num=num//10\n",
    "if(counter==10):\n",
    "    print(\"Phone number is Valid\")\n",
    "else:\n",
    "    print(\"Invalid Phone Number\")\n",
    "    "
   ]
  },
  {
   "cell_type": "code",
   "execution_count": 1,
   "id": "1ef09da5",
   "metadata": {},
   "outputs": [
    {
     "name": "stdout",
     "output_type": "stream",
     "text": [
      "Enter a Number 56\n",
      "Sum of the digits of a number are:  11\n"
     ]
    }
   ],
   "source": [
    "#Sum of all the digits in a number\n",
    "num=int(input(\"Enter a Number \"))\n",
    "n=num\n",
    "sum=0\n",
    "while(n!=0):\n",
    "    d=n%10\n",
    "    sum=sum+d\n",
    "    n=n//10\n",
    "print(\"Sum of the digits of a number are: \", sum)"
   ]
  },
  {
   "cell_type": "code",
   "execution_count": 45,
   "id": "d556c515",
   "metadata": {},
   "outputs": [
    {
     "name": "stdout",
     "output_type": "stream",
     "text": [
      "Enter a Number 33\n",
      "Sum of the digits of a number are:  18\n"
     ]
    }
   ],
   "source": [
    "#Sum of all the digits in a number\n",
    "num=int(input(\"Enter a Number \"))\n",
    "n=num\n",
    "sd=0\n",
    "sum=0\n",
    "while(n!=0):\n",
    "    d=n%10\n",
    "    sd=d**2\n",
    "    sum=sum+sd\n",
    "    n=n//10\n",
    "print(\"Sum of the digits of a number are: \", sum)"
   ]
  },
  {
   "cell_type": "code",
   "execution_count": 46,
   "id": "bb66dce8",
   "metadata": {},
   "outputs": [
    {
     "name": "stdout",
     "output_type": "stream",
     "text": [
      "Enter a Number: 1234\n",
      "Reverse is:  4321\n"
     ]
    }
   ],
   "source": [
    "#Reverse the digits of the number\n",
    "num=int(input(\"Enter a Number: \"))\n",
    "n=num\n",
    "rev=0\n",
    "while(n!=0):\n",
    "    d=n%10\n",
    "    rev=rev*10+d\n",
    "    n=n//10\n",
    "print(\"Reverse is: \", rev)"
   ]
  },
  {
   "cell_type": "code",
   "execution_count": null,
   "id": "24d1107a",
   "metadata": {},
   "outputs": [],
   "source": [
    "#Program for Armstrong Number\n",
    "num=int(input(\"Enter a Number: \"))\n",
    "n=num\n",
    "cd=0\n",
    "sum=0\n",
    "while(n!=0):\n",
    "    d=n%10\n",
    "    cd=d**3\n",
    "    sum=sum+cd\n",
    "if(sum==num):\n",
    "    print(\"It is an Armstrong Number.\")\n",
    "else:\n",
    "    print(\"It is not an Armstrong Number.\")"
   ]
  },
  {
   "cell_type": "code",
   "execution_count": null,
   "id": "fac3758b",
   "metadata": {},
   "outputs": [],
   "source": []
  }
 ],
 "metadata": {
  "kernelspec": {
   "display_name": "Python 3 (ipykernel)",
   "language": "python",
   "name": "python3"
  },
  "language_info": {
   "codemirror_mode": {
    "name": "ipython",
    "version": 3
   },
   "file_extension": ".py",
   "mimetype": "text/x-python",
   "name": "python",
   "nbconvert_exporter": "python",
   "pygments_lexer": "ipython3",
   "version": "3.9.13"
  }
 },
 "nbformat": 4,
 "nbformat_minor": 5
}
